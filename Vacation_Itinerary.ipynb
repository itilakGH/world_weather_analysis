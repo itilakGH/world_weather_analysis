{
 "cells": [
  {
   "cell_type": "code",
   "execution_count": 5,
   "metadata": {},
   "outputs": [],
   "source": [
    "# Importing the dependencies.\n",
    "import gmaps\n",
    "import gmaps.datasets\n",
    "import pandas as pd\n",
    "# Import the API key.\n",
    "from config import g_key\n",
    "gmaps.configure(api_key=g_key)"
   ]
  },
  {
   "cell_type": "code",
   "execution_count": 6,
   "metadata": {},
   "outputs": [
    {
     "data": {
      "text/html": [
       "<div>\n",
       "<style scoped>\n",
       "    .dataframe tbody tr th:only-of-type {\n",
       "        vertical-align: middle;\n",
       "    }\n",
       "\n",
       "    .dataframe tbody tr th {\n",
       "        vertical-align: top;\n",
       "    }\n",
       "\n",
       "    .dataframe thead th {\n",
       "        text-align: right;\n",
       "    }\n",
       "</style>\n",
       "<table border=\"1\" class=\"dataframe\">\n",
       "  <thead>\n",
       "    <tr style=\"text-align: right;\">\n",
       "      <th></th>\n",
       "      <th>City_ID</th>\n",
       "      <th>City</th>\n",
       "      <th>Country</th>\n",
       "      <th>Max Temp</th>\n",
       "      <th>Lat</th>\n",
       "      <th>Lng</th>\n",
       "      <th>Current Description</th>\n",
       "      <th>Hotel Name</th>\n",
       "    </tr>\n",
       "  </thead>\n",
       "  <tbody>\n",
       "    <tr>\n",
       "      <th>0</th>\n",
       "      <td>49</td>\n",
       "      <td>Poum</td>\n",
       "      <td>NC</td>\n",
       "      <td>80.60</td>\n",
       "      <td>-20.23</td>\n",
       "      <td>164.02</td>\n",
       "      <td>light rain</td>\n",
       "      <td>Gîte kajeon</td>\n",
       "    </tr>\n",
       "    <tr>\n",
       "      <th>1</th>\n",
       "      <td>56</td>\n",
       "      <td>Almeirim</td>\n",
       "      <td>BR</td>\n",
       "      <td>73.69</td>\n",
       "      <td>-1.52</td>\n",
       "      <td>-52.58</td>\n",
       "      <td>light rain</td>\n",
       "      <td>Ricácio Hotel</td>\n",
       "    </tr>\n",
       "    <tr>\n",
       "      <th>2</th>\n",
       "      <td>69</td>\n",
       "      <td>Sambava</td>\n",
       "      <td>MG</td>\n",
       "      <td>73.31</td>\n",
       "      <td>-14.27</td>\n",
       "      <td>50.17</td>\n",
       "      <td>light rain</td>\n",
       "      <td>Melrose</td>\n",
       "    </tr>\n",
       "    <tr>\n",
       "      <th>3</th>\n",
       "      <td>83</td>\n",
       "      <td>Micheweni</td>\n",
       "      <td>TZ</td>\n",
       "      <td>80.53</td>\n",
       "      <td>-4.97</td>\n",
       "      <td>39.83</td>\n",
       "      <td>light rain</td>\n",
       "      <td>NaN</td>\n",
       "    </tr>\n",
       "    <tr>\n",
       "      <th>4</th>\n",
       "      <td>103</td>\n",
       "      <td>Yako</td>\n",
       "      <td>BF</td>\n",
       "      <td>85.59</td>\n",
       "      <td>12.97</td>\n",
       "      <td>-2.27</td>\n",
       "      <td>light rain</td>\n",
       "      <td>Ecole de Sibega</td>\n",
       "    </tr>\n",
       "  </tbody>\n",
       "</table>\n",
       "</div>"
      ],
      "text/plain": [
       "   City_ID       City Country  Max Temp    Lat     Lng Current Description  \\\n",
       "0       49       Poum      NC     80.60 -20.23  164.02          light rain   \n",
       "1       56   Almeirim      BR     73.69  -1.52  -52.58          light rain   \n",
       "2       69    Sambava      MG     73.31 -14.27   50.17          light rain   \n",
       "3       83  Micheweni      TZ     80.53  -4.97   39.83          light rain   \n",
       "4      103       Yako      BF     85.59  12.97   -2.27          light rain   \n",
       "\n",
       "        Hotel Name  \n",
       "0      Gîte kajeon  \n",
       "1    Ricácio Hotel  \n",
       "2          Melrose  \n",
       "3              NaN  \n",
       "4  Ecole de Sibega  "
      ]
     },
     "execution_count": 6,
     "metadata": {},
     "output_type": "execute_result"
    }
   ],
   "source": [
    "# Importing the CSV created in part one into a DataFrame.\n",
    "hotel_df = pd.read_csv(\"weather_data/WeatherPy_Vacation.csv\")\n",
    "hotel_df.head()"
   ]
  },
  {
   "cell_type": "code",
   "execution_count": 88,
   "metadata": {},
   "outputs": [],
   "source": [
    "first_df = hotel_df.loc[hotel_df[\"City\"] == \"Barra Do Garcas\"]\n",
    "second_df= hotel_df.loc[hotel_df[\"City\"] == \"Itupiranga\"]\n",
    "third_df= hotel_df.loc[hotel_df[\"City\"] == \"Maragogi\"]\n",
    "fourth_df= hotel_df.loc[hotel_df[\"City\"] == \"Piacabucu\"]"
   ]
  },
  {
   "cell_type": "code",
   "execution_count": 44,
   "metadata": {},
   "outputs": [],
   "source": [
    "\n"
   ]
  },
  {
   "cell_type": "code",
   "execution_count": 89,
   "metadata": {},
   "outputs": [],
   "source": [
    "subset = first_df[['Lat','Lng']]\n",
    "tuple_one = [tuple(x) for x in subset.to_numpy()]\n",
    "subset = second_df[['Lat','Lng']]\n",
    "tuple_two = [tuple(x) for x in subset.to_numpy()]\n",
    "subset = third_df[['Lat','Lng']]\n",
    "tuple_three = [tuple(x) for x in subset.to_numpy()]\n",
    "subset = fourth_df[['Lat','Lng']]\n",
    "tuple_four = [tuple(x) for x in subset.to_numpy()]"
   ]
  },
  {
   "cell_type": "code",
   "execution_count": 90,
   "metadata": {},
   "outputs": [],
   "source": [
    "Bar = tuple_one[0]\n",
    "Itu = tuple_two[0]\n",
    "Mar = tuple_three[0]\n",
    "Pia = tuple_four[0]"
   ]
  },
  {
   "cell_type": "code",
   "execution_count": 110,
   "metadata": {},
   "outputs": [
    {
     "data": {
      "text/html": [
       "<div>\n",
       "<style scoped>\n",
       "    .dataframe tbody tr th:only-of-type {\n",
       "        vertical-align: middle;\n",
       "    }\n",
       "\n",
       "    .dataframe tbody tr th {\n",
       "        vertical-align: top;\n",
       "    }\n",
       "\n",
       "    .dataframe thead th {\n",
       "        text-align: right;\n",
       "    }\n",
       "</style>\n",
       "<table border=\"1\" class=\"dataframe\">\n",
       "  <thead>\n",
       "    <tr style=\"text-align: right;\">\n",
       "      <th></th>\n",
       "      <th>City_ID</th>\n",
       "      <th>City</th>\n",
       "      <th>Country</th>\n",
       "      <th>Max Temp</th>\n",
       "      <th>Lat</th>\n",
       "      <th>Lng</th>\n",
       "      <th>Current Description</th>\n",
       "      <th>Hotel Name</th>\n",
       "    </tr>\n",
       "  </thead>\n",
       "  <tbody>\n",
       "    <tr>\n",
       "      <th>23</th>\n",
       "      <td>260</td>\n",
       "      <td>Piacabucu</td>\n",
       "      <td>BR</td>\n",
       "      <td>78.40</td>\n",
       "      <td>-10.41</td>\n",
       "      <td>-36.43</td>\n",
       "      <td>light rain</td>\n",
       "      <td>Piaçabuçu News</td>\n",
       "    </tr>\n",
       "    <tr>\n",
       "      <th>24</th>\n",
       "      <td>266</td>\n",
       "      <td>Barra Do Garcas</td>\n",
       "      <td>BR</td>\n",
       "      <td>73.06</td>\n",
       "      <td>-15.89</td>\n",
       "      <td>-52.26</td>\n",
       "      <td>light rain</td>\n",
       "      <td>Hotel Pousada Tropical</td>\n",
       "    </tr>\n",
       "    <tr>\n",
       "      <th>25</th>\n",
       "      <td>276</td>\n",
       "      <td>Itupiranga</td>\n",
       "      <td>BR</td>\n",
       "      <td>78.80</td>\n",
       "      <td>-5.13</td>\n",
       "      <td>-49.33</td>\n",
       "      <td>light rain</td>\n",
       "      <td>JAIRO ORLINDO VIEIRA</td>\n",
       "    </tr>\n",
       "    <tr>\n",
       "      <th>37</th>\n",
       "      <td>450</td>\n",
       "      <td>Maragogi</td>\n",
       "      <td>BR</td>\n",
       "      <td>78.94</td>\n",
       "      <td>-9.01</td>\n",
       "      <td>-35.22</td>\n",
       "      <td>light rain</td>\n",
       "      <td>Hotel Praia Dourada</td>\n",
       "    </tr>\n",
       "  </tbody>\n",
       "</table>\n",
       "</div>"
      ],
      "text/plain": [
       "    City_ID             City Country  Max Temp    Lat    Lng  \\\n",
       "23      260        Piacabucu      BR     78.40 -10.41 -36.43   \n",
       "24      266  Barra Do Garcas      BR     73.06 -15.89 -52.26   \n",
       "25      276       Itupiranga      BR     78.80  -5.13 -49.33   \n",
       "37      450         Maragogi      BR     78.94  -9.01 -35.22   \n",
       "\n",
       "   Current Description              Hotel Name  \n",
       "23          light rain          Piaçabuçu News  \n",
       "24          light rain  Hotel Pousada Tropical  \n",
       "25          light rain    JAIRO ORLINDO VIEIRA  \n",
       "37          light rain     Hotel Praia Dourada  "
      ]
     },
     "execution_count": 110,
     "metadata": {},
     "output_type": "execute_result"
    }
   ],
   "source": [
    "new_hotel_df = hotel_df[(hotel_df['City']=='Barra Do Garcas') | (hotel_df['City']=='Itupiranga') |  \n",
    "         (hotel_df['City']=='Maragogi') | (hotel_df['City']=='Piacabucu')]\n",
    "new_hotel_df"
   ]
  },
  {
   "cell_type": "code",
   "execution_count": 117,
   "metadata": {},
   "outputs": [],
   "source": [
    "# Defining the info in the pop-up marker\n",
    "info_box_template = \"\"\"\n",
    "<dl>\n",
    "<dt>Hotel Name</dt><dd>{Hotel Name}</dd>\n",
    "<dt>City</dt><dd>{City}</dd>\n",
    "<dt>Country</dt><dd>{Country}</dd>\n",
    "<dt>Max Temp</dt><dd>{Max Temp} °F</dd>\n",
    "<dt>Current Weather</dt><dd>{Current Description}</dd>\n",
    "</dl>\n",
    "\"\"\""
   ]
  },
  {
   "cell_type": "code",
   "execution_count": null,
   "metadata": {},
   "outputs": [],
   "source": []
  },
  {
   "cell_type": "code",
   "execution_count": 120,
   "metadata": {},
   "outputs": [
    {
     "data": {
      "text/plain": [
       "['\\n<dl>\\n<dt>Hotel Name</dt><dd>Piaçabuçu News</dd>\\n<dt>City</dt><dd>Piacabucu</dd>\\n<dt>Country</dt><dd>BR</dd>\\n<dt>Max Temp</dt><dd>78.4 °F</dd>\\n<dt>Current Weather</dt><dd>light rain</dd>\\n</dl>\\n',\n",
       " '\\n<dl>\\n<dt>Hotel Name</dt><dd>Hotel Pousada Tropical</dd>\\n<dt>City</dt><dd>Barra Do Garcas</dd>\\n<dt>Country</dt><dd>BR</dd>\\n<dt>Max Temp</dt><dd>73.06 °F</dd>\\n<dt>Current Weather</dt><dd>light rain</dd>\\n</dl>\\n',\n",
       " '\\n<dl>\\n<dt>Hotel Name</dt><dd>JAIRO ORLINDO VIEIRA</dd>\\n<dt>City</dt><dd>Itupiranga</dd>\\n<dt>Country</dt><dd>BR</dd>\\n<dt>Max Temp</dt><dd>78.8 °F</dd>\\n<dt>Current Weather</dt><dd>light rain</dd>\\n</dl>\\n',\n",
       " '\\n<dl>\\n<dt>Hotel Name</dt><dd>Hotel Praia Dourada</dd>\\n<dt>City</dt><dd>Maragogi</dd>\\n<dt>Country</dt><dd>BR</dd>\\n<dt>Max Temp</dt><dd>78.94 °F</dd>\\n<dt>Current Weather</dt><dd>light rain</dd>\\n</dl>\\n']"
      ]
     },
     "execution_count": 120,
     "metadata": {},
     "output_type": "execute_result"
    }
   ],
   "source": [
    "# Storing the DataFrame Row.\n",
    "city_info = [info_box_template.format(**row) for index, row in new_hotel_df.iterrows()]\n",
    "city_info"
   ]
  },
  {
   "cell_type": "code",
   "execution_count": 126,
   "metadata": {},
   "outputs": [
    {
     "data": {
      "application/vnd.jupyter.widget-view+json": {
       "model_id": "784aa5362bde4941a252dc29c241cb93",
       "version_major": 2,
       "version_minor": 0
      },
      "text/plain": [
       "Figure(layout=FigureLayout(height='420px'))"
      ]
     },
     "metadata": {},
     "output_type": "display_data"
    }
   ],
   "source": [
    "locations = new_hotel_df[[\"Lat\", \"Lng\"]]\n",
    "fig = gmaps.figure()\n",
    "travel = gmaps.directions_layer(Itu, Bar, waypoints=[Mar,Pia])\n",
    "fig.add_layer(travel)\n",
    "# Was desperatly trying to add this layer to get the pop-up markers but didn't succeed\n",
    "marker_layer = gmaps.marker_layer(locations, info_box_content=city_info)\n",
    "fig.add_layer(marker_layer)\n",
    "fig"
   ]
  },
  {
   "cell_type": "code",
   "execution_count": 94,
   "metadata": {},
   "outputs": [],
   "source": []
  }
 ],
 "metadata": {
  "kernelspec": {
   "display_name": "PythonData",
   "language": "python",
   "name": "pythondata"
  },
  "language_info": {
   "codemirror_mode": {
    "name": "ipython",
    "version": 3
   },
   "file_extension": ".py",
   "mimetype": "text/x-python",
   "name": "python",
   "nbconvert_exporter": "python",
   "pygments_lexer": "ipython3",
   "version": "3.7.6"
  }
 },
 "nbformat": 4,
 "nbformat_minor": 4
}
